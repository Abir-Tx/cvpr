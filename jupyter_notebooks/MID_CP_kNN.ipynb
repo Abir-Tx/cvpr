{
 "cells": [
  {
   "cell_type": "markdown",
   "id": "8f1f8075",
   "metadata": {},
   "source": [
    "# MID CP KNN\n",
    "\n",
    "This notebook is for **CVPR** Mid Term Assignment 1 solve\n"
   ]
  },
  {
   "cell_type": "markdown",
   "id": "4c47c5d9",
   "metadata": {},
   "source": [
    "## Dataset and Preprocessing"
   ]
  },
  {
   "cell_type": "code",
   "execution_count": null,
   "id": "2d6bfebc",
   "metadata": {},
   "outputs": [],
   "source": []
  }
 ],
 "metadata": {
  "kernelspec": {
   "display_name": "Python [conda env:cvpr] *",
   "language": "python",
   "name": "conda-env-cvpr-py"
  },
  "language_info": {
   "codemirror_mode": {
    "name": "ipython",
    "version": 3
   },
   "file_extension": ".py",
   "mimetype": "text/x-python",
   "name": "python",
   "nbconvert_exporter": "python",
   "pygments_lexer": "ipython3",
   "version": "3.11.5"
  }
 },
 "nbformat": 4,
 "nbformat_minor": 5
}
