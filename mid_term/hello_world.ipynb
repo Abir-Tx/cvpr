{
 "cells": [
  {
   "cell_type": "markdown",
   "id": "c97cd3f2",
   "metadata": {},
   "source": [
    "# Hello World CVPR\n",
    "\n",
    "This is a hello world of CVPR test file"
   ]
  },
  {
   "cell_type": "code",
   "execution_count": 1,
   "id": "7a44ccaf",
   "metadata": {},
   "outputs": [
    {
     "name": "stdout",
     "output_type": "stream",
     "text": [
      "Hello CVPR World\n"
     ]
    }
   ],
   "source": [
    "print (\"Hello CVPR World\")"
   ]
  }
 ],
 "metadata": {
  "kernelspec": {
   "display_name": "Python 3 (ipykernel)",
   "language": "python",
   "name": "python3"
  },
  "language_info": {
   "codemirror_mode": {
    "name": "ipython",
    "version": 3
   },
   "file_extension": ".py",
   "mimetype": "text/x-python",
   "name": "python",
   "nbconvert_exporter": "python",
   "pygments_lexer": "ipython3",
   "version": "3.11.5"
  }
 },
 "nbformat": 4,
 "nbformat_minor": 5
}
